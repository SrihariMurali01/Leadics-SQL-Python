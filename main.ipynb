{
 "cells": [
  {
   "cell_type": "markdown",
   "source": [
    "## SQL with Python - Leadics Inc."
   ],
   "metadata": {
    "collapsed": false
   },
   "id": "638c1959b78f7226"
  },
  {
   "cell_type": "code",
   "execution_count": 48,
   "outputs": [],
   "source": [
    "import mysql.connector as sql"
   ],
   "metadata": {
    "collapsed": false,
    "ExecuteTime": {
     "end_time": "2023-11-25T09:56:50.573753500Z",
     "start_time": "2023-11-25T09:56:50.550761300Z"
    }
   },
   "id": "a1f4e94826721638"
  },
  {
   "cell_type": "code",
   "execution_count": 49,
   "outputs": [],
   "source": [
    "myDb = sql.connect(\n",
    "    host='127.0.0.1',\n",
    "    user='root',\n",
    "    password='Srihari@2003'\n",
    ")"
   ],
   "metadata": {
    "collapsed": false,
    "ExecuteTime": {
     "end_time": "2023-11-25T09:56:50.986947200Z",
     "start_time": "2023-11-25T09:56:50.938954900Z"
    }
   },
   "id": "ea7255f3a728c64"
  },
  {
   "cell_type": "code",
   "execution_count": 50,
   "outputs": [],
   "source": [
    "myCursor = myDb.cursor()  # This is the cursor for executing the SQL Statements"
   ],
   "metadata": {
    "collapsed": false,
    "ExecuteTime": {
     "end_time": "2023-11-25T09:56:51.499681200Z",
     "start_time": "2023-11-25T09:56:51.475677100Z"
    }
   },
   "id": "9534c07c40b271c6"
  },
  {
   "cell_type": "code",
   "execution_count": null,
   "outputs": [],
   "source": [
    "myCursor.execute('CREATE DATABASE LOCALPYTHON')"
   ],
   "metadata": {
    "collapsed": false
   },
   "id": "e3349e930430386a"
  },
  {
   "cell_type": "markdown",
   "source": [
    "#### Show databases"
   ],
   "metadata": {
    "collapsed": false
   },
   "id": "f7f8f41c97bfa5bb"
  },
  {
   "cell_type": "code",
   "execution_count": 4,
   "outputs": [
    {
     "name": "stdout",
     "output_type": "stream",
     "text": [
      "('cascadingfk',)\n",
      "('college',)\n",
      "('fklinking',)\n",
      "('information_schema',)\n",
      "('joins',)\n",
      "('localpython',)\n",
      "('mysql',)\n",
      "('performance_schema',)\n",
      "('pq2',)\n",
      "('sakila',)\n",
      "('sys',)\n",
      "('world',)\n",
      "('xyz',)\n"
     ]
    }
   ],
   "source": [
    "myCursor.execute('SHOW DATABASES')\n",
    "\n",
    "for x in myCursor:\n",
    "    print(x)"
   ],
   "metadata": {
    "collapsed": false,
    "ExecuteTime": {
     "end_time": "2023-11-25T09:36:40.557484100Z",
     "start_time": "2023-11-25T09:36:40.445942900Z"
    }
   },
   "id": "67db2690cfd231ba"
  },
  {
   "cell_type": "markdown",
   "source": [
    "#### Select a database, print data (IMPORTED OLD DATA)"
   ],
   "metadata": {
    "collapsed": false
   },
   "id": "5f8e1950be6c2b46"
  },
  {
   "cell_type": "code",
   "execution_count": 51,
   "outputs": [],
   "source": [
    "myCursor.execute('USE LOCALPYTHON')"
   ],
   "metadata": {
    "collapsed": false,
    "ExecuteTime": {
     "end_time": "2023-11-25T09:56:57.019638700Z",
     "start_time": "2023-11-25T09:56:56.991229Z"
    }
   },
   "id": "7cbd019fa4f594b8"
  },
  {
   "cell_type": "code",
   "execution_count": null,
   "outputs": [],
   "source": [
    "myCursor.execute('SELECT * FROM STUDENT')\n",
    "\n",
    "for x in myCursor:\n",
    "    print(type(x))"
   ],
   "metadata": {
    "collapsed": false
   },
   "id": "23478bd6db584aab"
  },
  {
   "cell_type": "markdown",
   "source": [
    "#### Creating new Table"
   ],
   "metadata": {
    "collapsed": false
   },
   "id": "36cd3fbbba8a81d8"
  },
  {
   "cell_type": "code",
   "execution_count": null,
   "outputs": [],
   "source": [
    "myCursor.execute('CREATE TABLE customers '\n",
    "                 '(id INTEGER PRIMARY KEY, name VARCHAR(255), bill INT)')"
   ],
   "metadata": {
    "collapsed": false
   },
   "id": "ce936e4b48fd0458"
  },
  {
   "cell_type": "markdown",
   "source": [
    "#### Adding Data"
   ],
   "metadata": {
    "collapsed": false
   },
   "id": "c27d6bc6d19ae8f2"
  },
  {
   "cell_type": "code",
   "execution_count": null,
   "outputs": [],
   "source": [
    "sql = 'INSERT INTO customers (id, name, bill) VALUES (%s, %s, %s)'\n",
    "\n",
    "val = [\n",
    "    (1, 'Srihari', 200000),\n",
    "    (2, 'Saipranav', 200000),\n",
    "    (3, 'Sanjit', 220000),\n",
    "    (4, 'Vijay', 205000)\n",
    "]\n",
    "\n",
    "# execute() -> for single data\n",
    "myCursor.executemany(sql, val)\n",
    "\n",
    "# IMP - .commit() to make actual changes in the DB\n",
    "myDb.commit()\n",
    "\n",
    "myCursor.execute('SELECT * FROM customers')\n",
    "print(list(x for x in myCursor))"
   ],
   "metadata": {
    "collapsed": false
   },
   "id": "60124fb6f7aa1bff"
  },
  {
   "cell_type": "markdown",
   "source": [
    "#### Entry logging"
   ],
   "metadata": {
    "collapsed": false
   },
   "id": "806155562dc2a7b4"
  },
  {
   "cell_type": "code",
   "execution_count": 10,
   "outputs": [
    {
     "name": "stdout",
     "output_type": "stream",
     "text": [
      "1 Entry completed at: 0\n"
     ]
    }
   ],
   "source": [
    "sql = \"INSERT INTO customers (id, name, bill) VALUES (%s, %s, %s)\"\n",
    "val = (5, 'Keerthana', 190000)\n",
    "myCursor.execute(sql, val)\n",
    "\n",
    "myDb.commit()\n",
    "\n",
    "print(f\"1 Entry completed at index: {myCursor.lastrowid}\")"
   ],
   "metadata": {
    "collapsed": false,
    "ExecuteTime": {
     "end_time": "2023-11-25T09:44:02.624643Z",
     "start_time": "2023-11-25T09:44:02.540124700Z"
    }
   },
   "id": "b04ddcd8e21fa232"
  },
  {
   "cell_type": "markdown",
   "source": [
    "#### SELECT Statements"
   ],
   "metadata": {
    "collapsed": false
   },
   "id": "53bbce6537b90edb"
  },
  {
   "cell_type": "code",
   "execution_count": 52,
   "outputs": [
    {
     "name": "stdout",
     "output_type": "stream",
     "text": [
      "[(1, 'Srihari', 200000), (2, 'Saipranav', 200000), (3, 'Sanjit', 220000), (4, 'Vijay', 205000), (5, 'Keerthana', 190000)]\n"
     ]
    }
   ],
   "source": [
    "myCursor.execute(\"SELECT * FROM customers\")\n",
    "print(list(x for x in myCursor.fetchall()))"
   ],
   "metadata": {
    "collapsed": false,
    "ExecuteTime": {
     "end_time": "2023-11-25T09:57:02.485865900Z",
     "start_time": "2023-11-25T09:57:02.440880700Z"
    }
   },
   "id": "e1289b67d22766ba"
  },
  {
   "cell_type": "code",
   "execution_count": 53,
   "outputs": [
    {
     "name": "stdout",
     "output_type": "stream",
     "text": [
      "[(1, 'Srihari'), (2, 'Saipranav'), (3, 'Sanjit'), (4, 'Vijay'), (5, 'Keerthana')]\n"
     ]
    }
   ],
   "source": [
    "myCursor.execute(\"SELECT id, name FROM customers\")\n",
    "print(list(x for x in myCursor.fetchall()))"
   ],
   "metadata": {
    "collapsed": false,
    "ExecuteTime": {
     "end_time": "2023-11-25T09:57:02.927581600Z",
     "start_time": "2023-11-25T09:57:02.896062800Z"
    }
   },
   "id": "d4604181ea56439f"
  },
  {
   "cell_type": "code",
   "execution_count": 54,
   "outputs": [
    {
     "name": "stdout",
     "output_type": "stream",
     "text": [
      "[1, 'Srihari']\n"
     ]
    },
    {
     "data": {
      "text/plain": "[(2, 'Saipranav'), (3, 'Sanjit'), (4, 'Vijay'), (5, 'Keerthana')]"
     },
     "execution_count": 54,
     "metadata": {},
     "output_type": "execute_result"
    }
   ],
   "source": [
    "myCursor.execute(\"SELECT id, name FROM customers\")\n",
    "print(list(x for x in myCursor.fetchone()))\n",
    "myCursor.fetchall()"
   ],
   "metadata": {
    "collapsed": false,
    "ExecuteTime": {
     "end_time": "2023-11-25T09:57:03.322698200Z",
     "start_time": "2023-11-25T09:57:03.258161200Z"
    }
   },
   "id": "706c06b0886952a2"
  },
  {
   "cell_type": "code",
   "execution_count": 55,
   "outputs": [
    {
     "name": "stdout",
     "output_type": "stream",
     "text": [
      "[(1, 'Srihari'), (2, 'Saipranav'), (3, 'Sanjit')]\n"
     ]
    }
   ],
   "source": [
    "myCursor.execute(\"SELECT id, name FROM customers\")\n",
    "print(list(x for x in myCursor.fetchmany(3)))"
   ],
   "metadata": {
    "collapsed": false,
    "ExecuteTime": {
     "end_time": "2023-11-25T09:57:04.201653100Z",
     "start_time": "2023-11-25T09:57:04.086102100Z"
    }
   },
   "id": "ae8b45995a9f5aaf"
  },
  {
   "cell_type": "code",
   "execution_count": 60,
   "outputs": [
    {
     "name": "stdout",
     "output_type": "stream",
     "text": [
      "[(2, 'Saipranav'), (4, 'Vijay')]\n"
     ]
    }
   ],
   "source": [
    "myCursor.fetchall() # Always include this at the starting, only for Jupyter, so that the fetch is cleared\n",
    "sql = 'SELECT id, name FROM customers where id % 2 = 0'\n",
    "myCursor.execute(sql)\n",
    "print(list(x for x in myCursor.fetchall()))"
   ],
   "metadata": {
    "collapsed": false,
    "ExecuteTime": {
     "end_time": "2023-11-25T10:00:04.038406400Z",
     "start_time": "2023-11-25T10:00:03.959388200Z"
    }
   },
   "id": "aa2c0173eb9c4f2f"
  },
  {
   "cell_type": "code",
   "execution_count": 67,
   "outputs": [
    {
     "name": "stdout",
     "output_type": "stream",
     "text": [
      "[(1, 'Srihari', 200000), (2, 'Saipranav', 200000), (3, 'Sanjit', 220000)]\n"
     ]
    }
   ],
   "source": [
    "myCursor.fetchall()\n",
    "sql = \"SELECT * FROM customers WHERE name LIKE '%s%'\"\n",
    "myCursor.execute(sql)\n",
    "print(list(x for x in myCursor.fetchall()))"
   ],
   "metadata": {
    "collapsed": false,
    "ExecuteTime": {
     "end_time": "2023-11-25T10:03:33.634448300Z",
     "start_time": "2023-11-25T10:03:33.511904200Z"
    }
   },
   "id": "3a263b3e93228a94"
  },
  {
   "cell_type": "markdown",
   "source": [
    "##### Always use \"Parameterised SQL value insertion\" for avoiding malware attacks and SQL injection attacks"
   ],
   "metadata": {
    "collapsed": false
   },
   "id": "5071971c73c1492b"
  },
  {
   "cell_type": "code",
   "execution_count": null,
   "outputs": [],
   "source": [],
   "metadata": {
    "collapsed": false
   },
   "id": "9f634a675c320321"
  }
 ],
 "metadata": {
  "kernelspec": {
   "display_name": "Python 3",
   "language": "python",
   "name": "python3"
  },
  "language_info": {
   "codemirror_mode": {
    "name": "ipython",
    "version": 2
   },
   "file_extension": ".py",
   "mimetype": "text/x-python",
   "name": "python",
   "nbconvert_exporter": "python",
   "pygments_lexer": "ipython2",
   "version": "2.7.6"
  }
 },
 "nbformat": 4,
 "nbformat_minor": 5
}
