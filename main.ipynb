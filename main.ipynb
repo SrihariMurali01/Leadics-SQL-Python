{
 "cells": [
  {
   "cell_type": "markdown",
   "source": [
    "## SQL with Python - Leadics Inc."
   ],
   "metadata": {
    "collapsed": false
   },
   "id": "638c1959b78f7226"
  },
  {
   "cell_type": "code",
   "execution_count": 1,
   "outputs": [],
   "source": [
    "import mysql.connector as sql"
   ],
   "metadata": {
    "collapsed": false,
    "ExecuteTime": {
     "end_time": "2023-11-30T14:11:24.725266600Z",
     "start_time": "2023-11-30T14:11:23.242958Z"
    }
   },
   "id": "a1f4e94826721638"
  },
  {
   "cell_type": "code",
   "execution_count": 2,
   "outputs": [],
   "source": [
    "myDb = sql.connect(\n",
    "    host='127.0.0.1',\n",
    "    user='root',\n",
    "    password='Srihari@2003'\n",
    ")"
   ],
   "metadata": {
    "collapsed": false,
    "ExecuteTime": {
     "end_time": "2023-11-30T14:11:24.989906900Z",
     "start_time": "2023-11-30T14:11:24.726267700Z"
    }
   },
   "id": "ea7255f3a728c64"
  },
  {
   "cell_type": "code",
   "execution_count": 3,
   "outputs": [],
   "source": [
    "myCursor = myDb.cursor()  # This is the cursor for executing the SQL Statements"
   ],
   "metadata": {
    "collapsed": false,
    "ExecuteTime": {
     "end_time": "2023-11-30T14:11:25.097463200Z",
     "start_time": "2023-11-30T14:11:24.991907Z"
    }
   },
   "id": "9534c07c40b271c6"
  },
  {
   "cell_type": "code",
   "execution_count": null,
   "outputs": [],
   "source": [
    "myCursor.execute('CREATE DATABASE LOCALPYTHON')"
   ],
   "metadata": {
    "collapsed": false
   },
   "id": "e3349e930430386a"
  },
  {
   "cell_type": "markdown",
   "source": [
    "#### Show databases"
   ],
   "metadata": {
    "collapsed": false
   },
   "id": "f7f8f41c97bfa5bb"
  },
  {
   "cell_type": "code",
   "execution_count": 4,
   "outputs": [
    {
     "name": "stdout",
     "output_type": "stream",
     "text": [
      "('cascadingfk',)\n",
      "('college',)\n",
      "('fklinking',)\n",
      "('information_schema',)\n",
      "('joins',)\n",
      "('localpython',)\n",
      "('mysql',)\n",
      "('performance_schema',)\n",
      "('pq2',)\n",
      "('sakila',)\n",
      "('sys',)\n",
      "('world',)\n",
      "('xyz',)\n"
     ]
    }
   ],
   "source": [
    "myCursor.execute('SHOW DATABASES')\n",
    "\n",
    "for x in myCursor:\n",
    "    print(x)"
   ],
   "metadata": {
    "collapsed": false,
    "ExecuteTime": {
     "end_time": "2023-11-25T09:36:40.557484100Z",
     "start_time": "2023-11-25T09:36:40.445942900Z"
    }
   },
   "id": "67db2690cfd231ba"
  },
  {
   "cell_type": "markdown",
   "source": [
    "#### Select a database, print data (IMPORTED OLD DATA)"
   ],
   "metadata": {
    "collapsed": false
   },
   "id": "5f8e1950be6c2b46"
  },
  {
   "cell_type": "code",
   "execution_count": 4,
   "outputs": [],
   "source": [
    "myCursor.execute('USE LOCALPYTHON')"
   ],
   "metadata": {
    "collapsed": false,
    "ExecuteTime": {
     "end_time": "2023-11-30T14:11:25.129672800Z",
     "start_time": "2023-11-30T14:11:25.035468400Z"
    }
   },
   "id": "7cbd019fa4f594b8"
  },
  {
   "cell_type": "code",
   "execution_count": null,
   "outputs": [],
   "source": [
    "myCursor.execute('SELECT * FROM STUDENT')\n",
    "\n",
    "for x in myCursor:\n",
    "    print(type(x))"
   ],
   "metadata": {
    "collapsed": false
   },
   "id": "23478bd6db584aab"
  },
  {
   "cell_type": "markdown",
   "source": [
    "#### Creating new Table"
   ],
   "metadata": {
    "collapsed": false
   },
   "id": "36cd3fbbba8a81d8"
  },
  {
   "cell_type": "code",
   "execution_count": null,
   "outputs": [],
   "source": [
    "myCursor.execute('CREATE TABLE customers '\n",
    "                 '(id INTEGER PRIMARY KEY, name VARCHAR(255), bill INT)')"
   ],
   "metadata": {
    "collapsed": false
   },
   "id": "ce936e4b48fd0458"
  },
  {
   "cell_type": "markdown",
   "source": [
    "#### Adding Data"
   ],
   "metadata": {
    "collapsed": false
   },
   "id": "c27d6bc6d19ae8f2"
  },
  {
   "cell_type": "code",
   "execution_count": null,
   "outputs": [],
   "source": [
    "sql = 'INSERT INTO customers (id, name, bill) VALUES (%s, %s, %s)'\n",
    "\n",
    "val = [\n",
    "    (1, 'Srihari', 200000),\n",
    "    (2, 'Saipranav', 200000),\n",
    "    (3, 'Sanjit', 220000),\n",
    "    (4, 'Vijay', 205000)\n",
    "]\n",
    "\n",
    "# execute() -> for single data\n",
    "myCursor.executemany(sql, val)\n",
    "\n",
    "# IMP - .commit() to make actual changes in the DB\n",
    "myDb.commit()\n",
    "\n",
    "myCursor.execute('SELECT * FROM customers')\n",
    "print(list(x for x in myCursor))"
   ],
   "metadata": {
    "collapsed": false
   },
   "id": "60124fb6f7aa1bff"
  },
  {
   "cell_type": "markdown",
   "source": [
    "#### Entry logging"
   ],
   "metadata": {
    "collapsed": false
   },
   "id": "806155562dc2a7b4"
  },
  {
   "cell_type": "code",
   "execution_count": 15,
   "outputs": [
    {
     "name": "stdout",
     "output_type": "stream",
     "text": [
      "1 Entry completed at index: 0\n"
     ]
    }
   ],
   "source": [
    "sql = \"INSERT INTO customers (id, name, bill) VALUES (%s, %s, %s)\"\n",
    "val = (5, 'Keerthana', 190000)\n",
    "myCursor.execute(sql, val)\n",
    "\n",
    "myDb.commit()\n",
    "\n",
    "print(f\"1 Entry completed at index: {myCursor.lastrowid}\")"
   ],
   "metadata": {
    "collapsed": false,
    "ExecuteTime": {
     "end_time": "2023-11-30T14:17:38.731768200Z",
     "start_time": "2023-11-30T14:17:38.695226400Z"
    }
   },
   "id": "b04ddcd8e21fa232"
  },
  {
   "cell_type": "markdown",
   "source": [
    "#### SELECT Statements"
   ],
   "metadata": {
    "collapsed": false
   },
   "id": "53bbce6537b90edb"
  },
  {
   "cell_type": "code",
   "execution_count": 52,
   "outputs": [
    {
     "name": "stdout",
     "output_type": "stream",
     "text": [
      "[(1, 'Srihari', 200000), (2, 'Saipranav', 200000), (3, 'Sanjit', 220000), (4, 'Vijay', 205000), (5, 'Keerthana', 190000)]\n"
     ]
    }
   ],
   "source": [
    "myCursor.execute(\"SELECT * FROM customers\")\n",
    "print(list(x for x in myCursor.fetchall()))"
   ],
   "metadata": {
    "collapsed": false,
    "ExecuteTime": {
     "end_time": "2023-11-25T09:57:02.485865900Z",
     "start_time": "2023-11-25T09:57:02.440880700Z"
    }
   },
   "id": "e1289b67d22766ba"
  },
  {
   "cell_type": "code",
   "execution_count": 53,
   "outputs": [
    {
     "name": "stdout",
     "output_type": "stream",
     "text": [
      "[(1, 'Srihari'), (2, 'Saipranav'), (3, 'Sanjit'), (4, 'Vijay'), (5, 'Keerthana')]\n"
     ]
    }
   ],
   "source": [
    "myCursor.execute(\"SELECT id, name FROM customers\")\n",
    "print(list(x for x in myCursor.fetchall()))"
   ],
   "metadata": {
    "collapsed": false,
    "ExecuteTime": {
     "end_time": "2023-11-25T09:57:02.927581600Z",
     "start_time": "2023-11-25T09:57:02.896062800Z"
    }
   },
   "id": "d4604181ea56439f"
  },
  {
   "cell_type": "code",
   "execution_count": 54,
   "outputs": [
    {
     "name": "stdout",
     "output_type": "stream",
     "text": [
      "[1, 'Srihari']\n"
     ]
    },
    {
     "data": {
      "text/plain": "[(2, 'Saipranav'), (3, 'Sanjit'), (4, 'Vijay'), (5, 'Keerthana')]"
     },
     "execution_count": 54,
     "metadata": {},
     "output_type": "execute_result"
    }
   ],
   "source": [
    "myCursor.execute(\"SELECT id, name FROM customers\")\n",
    "print(list(x for x in myCursor.fetchone()))\n",
    "myCursor.fetchall()"
   ],
   "metadata": {
    "collapsed": false,
    "ExecuteTime": {
     "end_time": "2023-11-25T09:57:03.322698200Z",
     "start_time": "2023-11-25T09:57:03.258161200Z"
    }
   },
   "id": "706c06b0886952a2"
  },
  {
   "cell_type": "code",
   "execution_count": 55,
   "outputs": [
    {
     "name": "stdout",
     "output_type": "stream",
     "text": [
      "[(1, 'Srihari'), (2, 'Saipranav'), (3, 'Sanjit')]\n"
     ]
    }
   ],
   "source": [
    "myCursor.execute(\"SELECT id, name FROM customers\")\n",
    "print(list(x for x in myCursor.fetchmany(3)))"
   ],
   "metadata": {
    "collapsed": false,
    "ExecuteTime": {
     "end_time": "2023-11-25T09:57:04.201653100Z",
     "start_time": "2023-11-25T09:57:04.086102100Z"
    }
   },
   "id": "ae8b45995a9f5aaf"
  },
  {
   "cell_type": "code",
   "execution_count": 60,
   "outputs": [
    {
     "name": "stdout",
     "output_type": "stream",
     "text": [
      "[(2, 'Saipranav'), (4, 'Vijay')]\n"
     ]
    }
   ],
   "source": [
    "myCursor.fetchall() # Always include this at the starting, only for Jupyter, so that the fetch is cleared\n",
    "sql = 'SELECT id, name FROM customers where id % 2 = 0'\n",
    "myCursor.execute(sql)\n",
    "print(list(x for x in myCursor.fetchall()))"
   ],
   "metadata": {
    "collapsed": false,
    "ExecuteTime": {
     "end_time": "2023-11-25T10:00:04.038406400Z",
     "start_time": "2023-11-25T10:00:03.959388200Z"
    }
   },
   "id": "aa2c0173eb9c4f2f"
  },
  {
   "cell_type": "code",
   "execution_count": 67,
   "outputs": [
    {
     "name": "stdout",
     "output_type": "stream",
     "text": [
      "[(1, 'Srihari', 200000), (2, 'Saipranav', 200000), (3, 'Sanjit', 220000)]\n"
     ]
    }
   ],
   "source": [
    "myCursor.fetchall()\n",
    "sql = \"SELECT * FROM customers WHERE name LIKE '%s%'\"\n",
    "myCursor.execute(sql)\n",
    "print(list(x for x in myCursor.fetchall()))"
   ],
   "metadata": {
    "collapsed": false,
    "ExecuteTime": {
     "end_time": "2023-11-25T10:03:33.634448300Z",
     "start_time": "2023-11-25T10:03:33.511904200Z"
    }
   },
   "id": "3a263b3e93228a94"
  },
  {
   "cell_type": "markdown",
   "source": [
    "##### Always use \"Parameterised SQL value insertion\" for avoiding malware attacks and SQL injection attacks"
   ],
   "metadata": {
    "collapsed": false
   },
   "id": "5071971c73c1492b"
  },
  {
   "cell_type": "markdown",
   "source": [
    "### ORDER BY statements"
   ],
   "metadata": {
    "collapsed": false
   },
   "id": "8d7ec4511adb940d"
  },
  {
   "cell_type": "code",
   "execution_count": 6,
   "outputs": [
    {
     "name": "stdout",
     "output_type": "stream",
     "text": [
      "[(5, 'Keerthana', 190000), (2, 'Saipranav', 200000), (3, 'Sanjit', 220000), (1, 'Srihari', 200000), (4, 'Vijay', 205000)]\n"
     ]
    }
   ],
   "source": [
    "sql = \"SELECT * from customers order by name\"\n",
    "myCursor.execute(sql)\n",
    "print(list(x for x in myCursor.fetchall()))"
   ],
   "metadata": {
    "collapsed": false,
    "ExecuteTime": {
     "end_time": "2023-11-30T14:13:29.407100Z",
     "start_time": "2023-11-30T14:13:29.282030Z"
    }
   },
   "id": "e6d3e821575be51f"
  },
  {
   "cell_type": "code",
   "execution_count": 10,
   "outputs": [
    {
     "name": "stdout",
     "output_type": "stream",
     "text": [
      "[(3, 'Sanjit', 220000), (4, 'Vijay', 205000), (1, 'Srihari', 200000), (2, 'Saipranav', 200000), (5, 'Keerthana', 190000)]\n"
     ]
    }
   ],
   "source": [
    "sql = \"SELECT * from customers order by bill desc\"\n",
    "myCursor.execute(sql)\n",
    "print(list(x for x in myCursor.fetchall()))"
   ],
   "metadata": {
    "collapsed": false,
    "ExecuteTime": {
     "end_time": "2023-11-30T14:15:52.711613500Z",
     "start_time": "2023-11-30T14:15:52.687618900Z"
    }
   },
   "id": "b200174ee6b89c43"
  },
  {
   "cell_type": "markdown",
   "source": [
    "### Deleting Records"
   ],
   "metadata": {
    "collapsed": false
   },
   "id": "da2c72541982836a"
  },
  {
   "cell_type": "code",
   "execution_count": 14,
   "outputs": [
    {
     "name": "stdout",
     "output_type": "stream",
     "text": [
      "1 record(s) deleted\n"
     ]
    }
   ],
   "source": [
    "sql = \"DELETE FROM customers where id = 5\"\n",
    "myCursor.execute(sql)\n",
    "\n",
    "myDb.commit()\n",
    "\n",
    "print(myCursor.rowcount, \"record(s) deleted\")"
   ],
   "metadata": {
    "collapsed": false,
    "ExecuteTime": {
     "end_time": "2023-11-30T14:16:52.004149300Z",
     "start_time": "2023-11-30T14:16:51.966609300Z"
    }
   },
   "id": "b5c5fa8bfe22941d"
  },
  {
   "cell_type": "markdown",
   "source": [
    "##### Deleting records with queries"
   ],
   "metadata": {
    "collapsed": false
   },
   "id": "f7f11665989549f2"
  },
  {
   "cell_type": "code",
   "execution_count": 16,
   "outputs": [
    {
     "name": "stdout",
     "output_type": "stream",
     "text": [
      "1 record(s) deleted\n"
     ]
    }
   ],
   "source": [
    "sql = \"DELETE FROM customers where id = %s\"\n",
    "data = (5,)\n",
    "myCursor.execute(sql, data)\n",
    "\n",
    "myDb.commit()\n",
    "\n",
    "print(myCursor.rowcount, \"record(s) deleted\")"
   ],
   "metadata": {
    "collapsed": false,
    "ExecuteTime": {
     "end_time": "2023-11-30T14:18:13.137780400Z",
     "start_time": "2023-11-30T14:18:13.016232900Z"
    }
   },
   "id": "6980e8cfe575af0a"
  },
  {
   "cell_type": "markdown",
   "source": [
    "### Deleting Tables"
   ],
   "metadata": {
    "collapsed": false
   },
   "id": "43bbf85b22f500c9"
  },
  {
   "cell_type": "code",
   "execution_count": 17,
   "outputs": [],
   "source": [
    "myCursor.execute('CREATE DATABASE TEMPORARY')"
   ],
   "metadata": {
    "collapsed": false,
    "ExecuteTime": {
     "end_time": "2023-11-30T14:19:13.814002Z",
     "start_time": "2023-11-30T14:19:13.745001800Z"
    }
   },
   "id": "ad9a250eb19af3b7"
  },
  {
   "cell_type": "code",
   "execution_count": 18,
   "outputs": [],
   "source": [
    "sql = \"DROP TABLE IF EXISTS TEMPORARY\"\n",
    "myCursor.execute(sql)"
   ],
   "metadata": {
    "collapsed": false,
    "ExecuteTime": {
     "end_time": "2023-11-30T14:19:44.439835Z",
     "start_time": "2023-11-30T14:19:44.363832Z"
    }
   },
   "id": "a98865501fcec3c3"
  },
  {
   "cell_type": "code",
   "execution_count": null,
   "outputs": [],
   "source": [],
   "metadata": {
    "collapsed": false
   },
   "id": "a9dc43cb3dd6132c"
  }
 ],
 "metadata": {
  "kernelspec": {
   "display_name": "Python 3",
   "language": "python",
   "name": "python3"
  },
  "language_info": {
   "codemirror_mode": {
    "name": "ipython",
    "version": 2
   },
   "file_extension": ".py",
   "mimetype": "text/x-python",
   "name": "python",
   "nbconvert_exporter": "python",
   "pygments_lexer": "ipython2",
   "version": "2.7.6"
  }
 },
 "nbformat": 4,
 "nbformat_minor": 5
}
