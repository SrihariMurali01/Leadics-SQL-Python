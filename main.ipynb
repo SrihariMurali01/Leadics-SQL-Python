{
 "cells": [
  {
   "cell_type": "markdown",
   "source": [
    "## SQL with Python - Leadics Inc."
   ],
   "metadata": {
    "collapsed": false
   },
   "id": "638c1959b78f7226"
  },
  {
   "cell_type": "code",
   "execution_count": null,
   "outputs": [],
   "source": [
    "import mysql.connector as sql"
   ],
   "metadata": {
    "collapsed": false
   },
   "id": "a1f4e94826721638"
  },
  {
   "cell_type": "code",
   "execution_count": null,
   "outputs": [],
   "source": [
    "myDb = sql.connect(\n",
    "    host='127.0.0.1',\n",
    "    user='root',\n",
    "    password='Srihari@2003'\n",
    ")"
   ],
   "metadata": {
    "collapsed": false
   },
   "id": "ea7255f3a728c64"
  },
  {
   "cell_type": "code",
   "execution_count": null,
   "outputs": [],
   "source": [
    "myCursor = myDb.cursor()  # This is the cursor for executing the SQL Statements"
   ],
   "metadata": {
    "collapsed": false
   },
   "id": "9534c07c40b271c6"
  },
  {
   "cell_type": "code",
   "execution_count": null,
   "outputs": [],
   "source": [
    "myCursor.execute('CREATE DATABASE LOCALPYTHON')"
   ],
   "metadata": {
    "collapsed": false
   },
   "id": "e3349e930430386a"
  },
  {
   "cell_type": "markdown",
   "source": [
    "#### Show databases"
   ],
   "metadata": {
    "collapsed": false
   },
   "id": "f7f8f41c97bfa5bb"
  },
  {
   "cell_type": "code",
   "execution_count": null,
   "outputs": [],
   "source": [
    "myCursor.execute('SHOW DATABASES')\n",
    "\n",
    "for x in myCursor:\n",
    "    print(x)"
   ],
   "metadata": {
    "collapsed": false
   },
   "id": "67db2690cfd231ba"
  },
  {
   "cell_type": "markdown",
   "source": [
    "#### Select a database, print data (IMPORTED OLD DATA)"
   ],
   "metadata": {
    "collapsed": false
   },
   "id": "5f8e1950be6c2b46"
  },
  {
   "cell_type": "code",
   "execution_count": null,
   "outputs": [],
   "source": [
    "myCursor.execute('USE LOCALPYTHON')\n",
    "myCursor.execute('SELECT * FROM STUDENT')\n",
    "\n",
    "for x in myCursor:\n",
    "    print(type(x))"
   ],
   "metadata": {
    "collapsed": false
   },
   "id": "23478bd6db584aab"
  },
  {
   "cell_type": "markdown",
   "source": [
    "#### Creating new Table"
   ],
   "metadata": {
    "collapsed": false
   },
   "id": "36cd3fbbba8a81d8"
  },
  {
   "cell_type": "code",
   "execution_count": null,
   "outputs": [],
   "source": [
    "myCursor.execute('USE LOCALPYTHON')\n",
    "myCursor.execute('CREATE TABLE customers '\n",
    "                 '(id INTEGER PRIMARY KEY, name VARCHAR(255), bill INT)')"
   ],
   "metadata": {
    "collapsed": false
   },
   "id": "ce936e4b48fd0458"
  },
  {
   "cell_type": "markdown",
   "source": [
    "#### Adding Data"
   ],
   "metadata": {
    "collapsed": false
   },
   "id": "c27d6bc6d19ae8f2"
  },
  {
   "cell_type": "code",
   "execution_count": null,
   "outputs": [],
   "source": [
    "myCursor.execute('USE LOCALPYTHON')\n",
    "\n",
    "sql = 'INSERT INTO customers (id, name, bill) VALUES (%s, %s, %s)'\n",
    "\n",
    "val = [\n",
    "    (1, 'Srihari', 200000),\n",
    "    (2, 'Saipranav', 200000),\n",
    "    (3, 'Sanjit', 220000),\n",
    "    (4, 'Vijay', 205000)\n",
    "]\n",
    "\n",
    "# execute() -> for single data\n",
    "myCursor.executemany(sql, val)\n",
    "\n",
    "# IMP - .commit() to make actual changes in the DB\n",
    "myDb.commit()\n",
    "\n",
    "myCursor.execute('SELECT * FROM customers')\n",
    "print(list(x for x in myCursor))"
   ],
   "metadata": {
    "collapsed": false
   },
   "id": "60124fb6f7aa1bff"
  }
 ],
 "metadata": {
  "kernelspec": {
   "display_name": "Python 3",
   "language": "python",
   "name": "python3"
  },
  "language_info": {
   "codemirror_mode": {
    "name": "ipython",
    "version": 2
   },
   "file_extension": ".py",
   "mimetype": "text/x-python",
   "name": "python",
   "nbconvert_exporter": "python",
   "pygments_lexer": "ipython2",
   "version": "2.7.6"
  }
 },
 "nbformat": 4,
 "nbformat_minor": 5
}
